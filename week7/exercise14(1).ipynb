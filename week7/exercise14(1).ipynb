{
  "nbformat": 4,
  "nbformat_minor": 0,
  "metadata": {
    "colab": {
      "provenance": []
    },
    "kernelspec": {
      "name": "python3",
      "display_name": "Python 3"
    },
    "language_info": {
      "name": "python"
    },
    "widgets": {
      "application/vnd.jupyter.widget-state+json": {
        "d0aa3dde55344c5fb8a384eac9199555": {
          "model_module": "@jupyter-widgets/controls",
          "model_name": "HBoxModel",
          "model_module_version": "1.5.0",
          "state": {
            "_dom_classes": [],
            "_model_module": "@jupyter-widgets/controls",
            "_model_module_version": "1.5.0",
            "_model_name": "HBoxModel",
            "_view_count": null,
            "_view_module": "@jupyter-widgets/controls",
            "_view_module_version": "1.5.0",
            "_view_name": "HBoxView",
            "box_style": "",
            "children": [
              "IPY_MODEL_4ffc6e0d59994f7db78076eb7ec5f6f3",
              "IPY_MODEL_a8318b0856ec4c2b9f603faba1e6f972",
              "IPY_MODEL_74b091590d934d91ad72e498a39220de"
            ],
            "layout": "IPY_MODEL_ca65a424e68f415e94b3786dc7dd7872"
          }
        },
        "4ffc6e0d59994f7db78076eb7ec5f6f3": {
          "model_module": "@jupyter-widgets/controls",
          "model_name": "HTMLModel",
          "model_module_version": "1.5.0",
          "state": {
            "_dom_classes": [],
            "_model_module": "@jupyter-widgets/controls",
            "_model_module_version": "1.5.0",
            "_model_name": "HTMLModel",
            "_view_count": null,
            "_view_module": "@jupyter-widgets/controls",
            "_view_module_version": "1.5.0",
            "_view_name": "HTMLView",
            "description": "",
            "description_tooltip": null,
            "layout": "IPY_MODEL_434ac0e54b1b4d57aa9237d697db8483",
            "placeholder": "​",
            "style": "IPY_MODEL_f0fc817b36b94910b59bd1a308145837",
            "value": "config.json: 100%"
          }
        },
        "a8318b0856ec4c2b9f603faba1e6f972": {
          "model_module": "@jupyter-widgets/controls",
          "model_name": "FloatProgressModel",
          "model_module_version": "1.5.0",
          "state": {
            "_dom_classes": [],
            "_model_module": "@jupyter-widgets/controls",
            "_model_module_version": "1.5.0",
            "_model_name": "FloatProgressModel",
            "_view_count": null,
            "_view_module": "@jupyter-widgets/controls",
            "_view_module_version": "1.5.0",
            "_view_name": "ProgressView",
            "bar_style": "success",
            "description": "",
            "description_tooltip": null,
            "layout": "IPY_MODEL_f4bb77516df34e91bdd8468c2f1ede0a",
            "max": 606,
            "min": 0,
            "orientation": "horizontal",
            "style": "IPY_MODEL_d09866868cff4fc9bd4914c3b914ef52",
            "value": 606
          }
        },
        "74b091590d934d91ad72e498a39220de": {
          "model_module": "@jupyter-widgets/controls",
          "model_name": "HTMLModel",
          "model_module_version": "1.5.0",
          "state": {
            "_dom_classes": [],
            "_model_module": "@jupyter-widgets/controls",
            "_model_module_version": "1.5.0",
            "_model_name": "HTMLModel",
            "_view_count": null,
            "_view_module": "@jupyter-widgets/controls",
            "_view_module_version": "1.5.0",
            "_view_name": "HTMLView",
            "description": "",
            "description_tooltip": null,
            "layout": "IPY_MODEL_2112894dd58048279f0bae8db712ec26",
            "placeholder": "​",
            "style": "IPY_MODEL_d9dbcca3863242ebb8aaafaeb8db116a",
            "value": " 606/606 [00:00&lt;00:00, 34.5kB/s]"
          }
        },
        "ca65a424e68f415e94b3786dc7dd7872": {
          "model_module": "@jupyter-widgets/base",
          "model_name": "LayoutModel",
          "model_module_version": "1.2.0",
          "state": {
            "_model_module": "@jupyter-widgets/base",
            "_model_module_version": "1.2.0",
            "_model_name": "LayoutModel",
            "_view_count": null,
            "_view_module": "@jupyter-widgets/base",
            "_view_module_version": "1.2.0",
            "_view_name": "LayoutView",
            "align_content": null,
            "align_items": null,
            "align_self": null,
            "border": null,
            "bottom": null,
            "display": null,
            "flex": null,
            "flex_flow": null,
            "grid_area": null,
            "grid_auto_columns": null,
            "grid_auto_flow": null,
            "grid_auto_rows": null,
            "grid_column": null,
            "grid_gap": null,
            "grid_row": null,
            "grid_template_areas": null,
            "grid_template_columns": null,
            "grid_template_rows": null,
            "height": null,
            "justify_content": null,
            "justify_items": null,
            "left": null,
            "margin": null,
            "max_height": null,
            "max_width": null,
            "min_height": null,
            "min_width": null,
            "object_fit": null,
            "object_position": null,
            "order": null,
            "overflow": null,
            "overflow_x": null,
            "overflow_y": null,
            "padding": null,
            "right": null,
            "top": null,
            "visibility": null,
            "width": null
          }
        },
        "434ac0e54b1b4d57aa9237d697db8483": {
          "model_module": "@jupyter-widgets/base",
          "model_name": "LayoutModel",
          "model_module_version": "1.2.0",
          "state": {
            "_model_module": "@jupyter-widgets/base",
            "_model_module_version": "1.2.0",
            "_model_name": "LayoutModel",
            "_view_count": null,
            "_view_module": "@jupyter-widgets/base",
            "_view_module_version": "1.2.0",
            "_view_name": "LayoutView",
            "align_content": null,
            "align_items": null,
            "align_self": null,
            "border": null,
            "bottom": null,
            "display": null,
            "flex": null,
            "flex_flow": null,
            "grid_area": null,
            "grid_auto_columns": null,
            "grid_auto_flow": null,
            "grid_auto_rows": null,
            "grid_column": null,
            "grid_gap": null,
            "grid_row": null,
            "grid_template_areas": null,
            "grid_template_columns": null,
            "grid_template_rows": null,
            "height": null,
            "justify_content": null,
            "justify_items": null,
            "left": null,
            "margin": null,
            "max_height": null,
            "max_width": null,
            "min_height": null,
            "min_width": null,
            "object_fit": null,
            "object_position": null,
            "order": null,
            "overflow": null,
            "overflow_x": null,
            "overflow_y": null,
            "padding": null,
            "right": null,
            "top": null,
            "visibility": null,
            "width": null
          }
        },
        "f0fc817b36b94910b59bd1a308145837": {
          "model_module": "@jupyter-widgets/controls",
          "model_name": "DescriptionStyleModel",
          "model_module_version": "1.5.0",
          "state": {
            "_model_module": "@jupyter-widgets/controls",
            "_model_module_version": "1.5.0",
            "_model_name": "DescriptionStyleModel",
            "_view_count": null,
            "_view_module": "@jupyter-widgets/base",
            "_view_module_version": "1.2.0",
            "_view_name": "StyleView",
            "description_width": ""
          }
        },
        "f4bb77516df34e91bdd8468c2f1ede0a": {
          "model_module": "@jupyter-widgets/base",
          "model_name": "LayoutModel",
          "model_module_version": "1.2.0",
          "state": {
            "_model_module": "@jupyter-widgets/base",
            "_model_module_version": "1.2.0",
            "_model_name": "LayoutModel",
            "_view_count": null,
            "_view_module": "@jupyter-widgets/base",
            "_view_module_version": "1.2.0",
            "_view_name": "LayoutView",
            "align_content": null,
            "align_items": null,
            "align_self": null,
            "border": null,
            "bottom": null,
            "display": null,
            "flex": null,
            "flex_flow": null,
            "grid_area": null,
            "grid_auto_columns": null,
            "grid_auto_flow": null,
            "grid_auto_rows": null,
            "grid_column": null,
            "grid_gap": null,
            "grid_row": null,
            "grid_template_areas": null,
            "grid_template_columns": null,
            "grid_template_rows": null,
            "height": null,
            "justify_content": null,
            "justify_items": null,
            "left": null,
            "margin": null,
            "max_height": null,
            "max_width": null,
            "min_height": null,
            "min_width": null,
            "object_fit": null,
            "object_position": null,
            "order": null,
            "overflow": null,
            "overflow_x": null,
            "overflow_y": null,
            "padding": null,
            "right": null,
            "top": null,
            "visibility": null,
            "width": null
          }
        },
        "d09866868cff4fc9bd4914c3b914ef52": {
          "model_module": "@jupyter-widgets/controls",
          "model_name": "ProgressStyleModel",
          "model_module_version": "1.5.0",
          "state": {
            "_model_module": "@jupyter-widgets/controls",
            "_model_module_version": "1.5.0",
            "_model_name": "ProgressStyleModel",
            "_view_count": null,
            "_view_module": "@jupyter-widgets/base",
            "_view_module_version": "1.2.0",
            "_view_name": "StyleView",
            "bar_color": null,
            "description_width": ""
          }
        },
        "2112894dd58048279f0bae8db712ec26": {
          "model_module": "@jupyter-widgets/base",
          "model_name": "LayoutModel",
          "model_module_version": "1.2.0",
          "state": {
            "_model_module": "@jupyter-widgets/base",
            "_model_module_version": "1.2.0",
            "_model_name": "LayoutModel",
            "_view_count": null,
            "_view_module": "@jupyter-widgets/base",
            "_view_module_version": "1.2.0",
            "_view_name": "LayoutView",
            "align_content": null,
            "align_items": null,
            "align_self": null,
            "border": null,
            "bottom": null,
            "display": null,
            "flex": null,
            "flex_flow": null,
            "grid_area": null,
            "grid_auto_columns": null,
            "grid_auto_flow": null,
            "grid_auto_rows": null,
            "grid_column": null,
            "grid_gap": null,
            "grid_row": null,
            "grid_template_areas": null,
            "grid_template_columns": null,
            "grid_template_rows": null,
            "height": null,
            "justify_content": null,
            "justify_items": null,
            "left": null,
            "margin": null,
            "max_height": null,
            "max_width": null,
            "min_height": null,
            "min_width": null,
            "object_fit": null,
            "object_position": null,
            "order": null,
            "overflow": null,
            "overflow_x": null,
            "overflow_y": null,
            "padding": null,
            "right": null,
            "top": null,
            "visibility": null,
            "width": null
          }
        },
        "d9dbcca3863242ebb8aaafaeb8db116a": {
          "model_module": "@jupyter-widgets/controls",
          "model_name": "DescriptionStyleModel",
          "model_module_version": "1.5.0",
          "state": {
            "_model_module": "@jupyter-widgets/controls",
            "_model_module_version": "1.5.0",
            "_model_name": "DescriptionStyleModel",
            "_view_count": null,
            "_view_module": "@jupyter-widgets/base",
            "_view_module_version": "1.2.0",
            "_view_name": "StyleView",
            "description_width": ""
          }
        },
        "88a55d7e9f9f45eabb5fa66f7faaec6e": {
          "model_module": "@jupyter-widgets/controls",
          "model_name": "HBoxModel",
          "model_module_version": "1.5.0",
          "state": {
            "_dom_classes": [],
            "_model_module": "@jupyter-widgets/controls",
            "_model_module_version": "1.5.0",
            "_model_name": "HBoxModel",
            "_view_count": null,
            "_view_module": "@jupyter-widgets/controls",
            "_view_module_version": "1.5.0",
            "_view_name": "HBoxView",
            "box_style": "",
            "children": [
              "IPY_MODEL_e7eaa27bd04e413e8286745e1d155f9f",
              "IPY_MODEL_9dfafbba1aae48a0a20c463f8db9763b",
              "IPY_MODEL_5103a8e14c7542b3aa8e1e20f725cfa0"
            ],
            "layout": "IPY_MODEL_d3c05998f67a4139a91f799aee7673fa"
          }
        },
        "e7eaa27bd04e413e8286745e1d155f9f": {
          "model_module": "@jupyter-widgets/controls",
          "model_name": "HTMLModel",
          "model_module_version": "1.5.0",
          "state": {
            "_dom_classes": [],
            "_model_module": "@jupyter-widgets/controls",
            "_model_module_version": "1.5.0",
            "_model_name": "HTMLModel",
            "_view_count": null,
            "_view_module": "@jupyter-widgets/controls",
            "_view_module_version": "1.5.0",
            "_view_name": "HTMLView",
            "description": "",
            "description_tooltip": null,
            "layout": "IPY_MODEL_96afda8bb9ab429fbf736e9c0c030451",
            "placeholder": "​",
            "style": "IPY_MODEL_14700eb5fed447fb8d523a2479eb077c",
            "value": "model.safetensors: 100%"
          }
        },
        "9dfafbba1aae48a0a20c463f8db9763b": {
          "model_module": "@jupyter-widgets/controls",
          "model_name": "FloatProgressModel",
          "model_module_version": "1.5.0",
          "state": {
            "_dom_classes": [],
            "_model_module": "@jupyter-widgets/controls",
            "_model_module_version": "1.5.0",
            "_model_name": "FloatProgressModel",
            "_view_count": null,
            "_view_module": "@jupyter-widgets/controls",
            "_view_module_version": "1.5.0",
            "_view_name": "ProgressView",
            "bar_style": "success",
            "description": "",
            "description_tooltip": null,
            "layout": "IPY_MODEL_afefa73397ac4a719613612f0f12c249",
            "max": 2239618648,
            "min": 0,
            "orientation": "horizontal",
            "style": "IPY_MODEL_ba90576ab93e48b38230f6c41432a663",
            "value": 2239618648
          }
        },
        "5103a8e14c7542b3aa8e1e20f725cfa0": {
          "model_module": "@jupyter-widgets/controls",
          "model_name": "HTMLModel",
          "model_module_version": "1.5.0",
          "state": {
            "_dom_classes": [],
            "_model_module": "@jupyter-widgets/controls",
            "_model_module_version": "1.5.0",
            "_model_name": "HTMLModel",
            "_view_count": null,
            "_view_module": "@jupyter-widgets/controls",
            "_view_module_version": "1.5.0",
            "_view_name": "HTMLView",
            "description": "",
            "description_tooltip": null,
            "layout": "IPY_MODEL_cdc32b47017744ee896503f534e9efdb",
            "placeholder": "​",
            "style": "IPY_MODEL_12bf31fa902d48059c0e939b9293e01b",
            "value": " 2.24G/2.24G [00:13&lt;00:00, 198MB/s]"
          }
        },
        "d3c05998f67a4139a91f799aee7673fa": {
          "model_module": "@jupyter-widgets/base",
          "model_name": "LayoutModel",
          "model_module_version": "1.2.0",
          "state": {
            "_model_module": "@jupyter-widgets/base",
            "_model_module_version": "1.2.0",
            "_model_name": "LayoutModel",
            "_view_count": null,
            "_view_module": "@jupyter-widgets/base",
            "_view_module_version": "1.2.0",
            "_view_name": "LayoutView",
            "align_content": null,
            "align_items": null,
            "align_self": null,
            "border": null,
            "bottom": null,
            "display": null,
            "flex": null,
            "flex_flow": null,
            "grid_area": null,
            "grid_auto_columns": null,
            "grid_auto_flow": null,
            "grid_auto_rows": null,
            "grid_column": null,
            "grid_gap": null,
            "grid_row": null,
            "grid_template_areas": null,
            "grid_template_columns": null,
            "grid_template_rows": null,
            "height": null,
            "justify_content": null,
            "justify_items": null,
            "left": null,
            "margin": null,
            "max_height": null,
            "max_width": null,
            "min_height": null,
            "min_width": null,
            "object_fit": null,
            "object_position": null,
            "order": null,
            "overflow": null,
            "overflow_x": null,
            "overflow_y": null,
            "padding": null,
            "right": null,
            "top": null,
            "visibility": null,
            "width": null
          }
        },
        "96afda8bb9ab429fbf736e9c0c030451": {
          "model_module": "@jupyter-widgets/base",
          "model_name": "LayoutModel",
          "model_module_version": "1.2.0",
          "state": {
            "_model_module": "@jupyter-widgets/base",
            "_model_module_version": "1.2.0",
            "_model_name": "LayoutModel",
            "_view_count": null,
            "_view_module": "@jupyter-widgets/base",
            "_view_module_version": "1.2.0",
            "_view_name": "LayoutView",
            "align_content": null,
            "align_items": null,
            "align_self": null,
            "border": null,
            "bottom": null,
            "display": null,
            "flex": null,
            "flex_flow": null,
            "grid_area": null,
            "grid_auto_columns": null,
            "grid_auto_flow": null,
            "grid_auto_rows": null,
            "grid_column": null,
            "grid_gap": null,
            "grid_row": null,
            "grid_template_areas": null,
            "grid_template_columns": null,
            "grid_template_rows": null,
            "height": null,
            "justify_content": null,
            "justify_items": null,
            "left": null,
            "margin": null,
            "max_height": null,
            "max_width": null,
            "min_height": null,
            "min_width": null,
            "object_fit": null,
            "object_position": null,
            "order": null,
            "overflow": null,
            "overflow_x": null,
            "overflow_y": null,
            "padding": null,
            "right": null,
            "top": null,
            "visibility": null,
            "width": null
          }
        },
        "14700eb5fed447fb8d523a2479eb077c": {
          "model_module": "@jupyter-widgets/controls",
          "model_name": "DescriptionStyleModel",
          "model_module_version": "1.5.0",
          "state": {
            "_model_module": "@jupyter-widgets/controls",
            "_model_module_version": "1.5.0",
            "_model_name": "DescriptionStyleModel",
            "_view_count": null,
            "_view_module": "@jupyter-widgets/base",
            "_view_module_version": "1.2.0",
            "_view_name": "StyleView",
            "description_width": ""
          }
        },
        "afefa73397ac4a719613612f0f12c249": {
          "model_module": "@jupyter-widgets/base",
          "model_name": "LayoutModel",
          "model_module_version": "1.2.0",
          "state": {
            "_model_module": "@jupyter-widgets/base",
            "_model_module_version": "1.2.0",
            "_model_name": "LayoutModel",
            "_view_count": null,
            "_view_module": "@jupyter-widgets/base",
            "_view_module_version": "1.2.0",
            "_view_name": "LayoutView",
            "align_content": null,
            "align_items": null,
            "align_self": null,
            "border": null,
            "bottom": null,
            "display": null,
            "flex": null,
            "flex_flow": null,
            "grid_area": null,
            "grid_auto_columns": null,
            "grid_auto_flow": null,
            "grid_auto_rows": null,
            "grid_column": null,
            "grid_gap": null,
            "grid_row": null,
            "grid_template_areas": null,
            "grid_template_columns": null,
            "grid_template_rows": null,
            "height": null,
            "justify_content": null,
            "justify_items": null,
            "left": null,
            "margin": null,
            "max_height": null,
            "max_width": null,
            "min_height": null,
            "min_width": null,
            "object_fit": null,
            "object_position": null,
            "order": null,
            "overflow": null,
            "overflow_x": null,
            "overflow_y": null,
            "padding": null,
            "right": null,
            "top": null,
            "visibility": null,
            "width": null
          }
        },
        "ba90576ab93e48b38230f6c41432a663": {
          "model_module": "@jupyter-widgets/controls",
          "model_name": "ProgressStyleModel",
          "model_module_version": "1.5.0",
          "state": {
            "_model_module": "@jupyter-widgets/controls",
            "_model_module_version": "1.5.0",
            "_model_name": "ProgressStyleModel",
            "_view_count": null,
            "_view_module": "@jupyter-widgets/base",
            "_view_module_version": "1.2.0",
            "_view_name": "StyleView",
            "bar_color": null,
            "description_width": ""
          }
        },
        "cdc32b47017744ee896503f534e9efdb": {
          "model_module": "@jupyter-widgets/base",
          "model_name": "LayoutModel",
          "model_module_version": "1.2.0",
          "state": {
            "_model_module": "@jupyter-widgets/base",
            "_model_module_version": "1.2.0",
            "_model_name": "LayoutModel",
            "_view_count": null,
            "_view_module": "@jupyter-widgets/base",
            "_view_module_version": "1.2.0",
            "_view_name": "LayoutView",
            "align_content": null,
            "align_items": null,
            "align_self": null,
            "border": null,
            "bottom": null,
            "display": null,
            "flex": null,
            "flex_flow": null,
            "grid_area": null,
            "grid_auto_columns": null,
            "grid_auto_flow": null,
            "grid_auto_rows": null,
            "grid_column": null,
            "grid_gap": null,
            "grid_row": null,
            "grid_template_areas": null,
            "grid_template_columns": null,
            "grid_template_rows": null,
            "height": null,
            "justify_content": null,
            "justify_items": null,
            "left": null,
            "margin": null,
            "max_height": null,
            "max_width": null,
            "min_height": null,
            "min_width": null,
            "object_fit": null,
            "object_position": null,
            "order": null,
            "overflow": null,
            "overflow_x": null,
            "overflow_y": null,
            "padding": null,
            "right": null,
            "top": null,
            "visibility": null,
            "width": null
          }
        },
        "12bf31fa902d48059c0e939b9293e01b": {
          "model_module": "@jupyter-widgets/controls",
          "model_name": "DescriptionStyleModel",
          "model_module_version": "1.5.0",
          "state": {
            "_model_module": "@jupyter-widgets/controls",
            "_model_module_version": "1.5.0",
            "_model_name": "DescriptionStyleModel",
            "_view_count": null,
            "_view_module": "@jupyter-widgets/base",
            "_view_module_version": "1.2.0",
            "_view_name": "StyleView",
            "description_width": ""
          }
        },
        "6828c71aa8024c2ebd1827f53f574d14": {
          "model_module": "@jupyter-widgets/controls",
          "model_name": "HBoxModel",
          "model_module_version": "1.5.0",
          "state": {
            "_dom_classes": [],
            "_model_module": "@jupyter-widgets/controls",
            "_model_module_version": "1.5.0",
            "_model_name": "HBoxModel",
            "_view_count": null,
            "_view_module": "@jupyter-widgets/controls",
            "_view_module_version": "1.5.0",
            "_view_name": "HBoxView",
            "box_style": "",
            "children": [
              "IPY_MODEL_5a155ed3f6c6424492912fc3b8f9d519",
              "IPY_MODEL_995d3b9958604b0ba8e4355c8188ccd5",
              "IPY_MODEL_40fee22ceb984e63a2813e6d89d31b18"
            ],
            "layout": "IPY_MODEL_74524b42db5f4bc7815b5f9123ad8150"
          }
        },
        "5a155ed3f6c6424492912fc3b8f9d519": {
          "model_module": "@jupyter-widgets/controls",
          "model_name": "HTMLModel",
          "model_module_version": "1.5.0",
          "state": {
            "_dom_classes": [],
            "_model_module": "@jupyter-widgets/controls",
            "_model_module_version": "1.5.0",
            "_model_name": "HTMLModel",
            "_view_count": null,
            "_view_module": "@jupyter-widgets/controls",
            "_view_module_version": "1.5.0",
            "_view_name": "HTMLView",
            "description": "",
            "description_tooltip": null,
            "layout": "IPY_MODEL_12f89d305dbf445eae5ff8c2bc72c25f",
            "placeholder": "​",
            "style": "IPY_MODEL_32ee9831b8f14516b9a18fd44bc221e0",
            "value": "tokenizer_config.json: 100%"
          }
        },
        "995d3b9958604b0ba8e4355c8188ccd5": {
          "model_module": "@jupyter-widgets/controls",
          "model_name": "FloatProgressModel",
          "model_module_version": "1.5.0",
          "state": {
            "_dom_classes": [],
            "_model_module": "@jupyter-widgets/controls",
            "_model_module_version": "1.5.0",
            "_model_name": "FloatProgressModel",
            "_view_count": null,
            "_view_module": "@jupyter-widgets/controls",
            "_view_module_version": "1.5.0",
            "_view_name": "ProgressView",
            "bar_style": "success",
            "description": "",
            "description_tooltip": null,
            "layout": "IPY_MODEL_a5d8a724b5434be097d5fbccc2f704b9",
            "max": 179,
            "min": 0,
            "orientation": "horizontal",
            "style": "IPY_MODEL_9a4936de3aab4005b99c3ee342d3f777",
            "value": 179
          }
        },
        "40fee22ceb984e63a2813e6d89d31b18": {
          "model_module": "@jupyter-widgets/controls",
          "model_name": "HTMLModel",
          "model_module_version": "1.5.0",
          "state": {
            "_dom_classes": [],
            "_model_module": "@jupyter-widgets/controls",
            "_model_module_version": "1.5.0",
            "_model_name": "HTMLModel",
            "_view_count": null,
            "_view_module": "@jupyter-widgets/controls",
            "_view_module_version": "1.5.0",
            "_view_name": "HTMLView",
            "description": "",
            "description_tooltip": null,
            "layout": "IPY_MODEL_36982aa6181542f08cdd987488b6504e",
            "placeholder": "​",
            "style": "IPY_MODEL_04573e14af844520a2910ee86c212a21",
            "value": " 179/179 [00:00&lt;00:00, 8.15kB/s]"
          }
        },
        "74524b42db5f4bc7815b5f9123ad8150": {
          "model_module": "@jupyter-widgets/base",
          "model_name": "LayoutModel",
          "model_module_version": "1.2.0",
          "state": {
            "_model_module": "@jupyter-widgets/base",
            "_model_module_version": "1.2.0",
            "_model_name": "LayoutModel",
            "_view_count": null,
            "_view_module": "@jupyter-widgets/base",
            "_view_module_version": "1.2.0",
            "_view_name": "LayoutView",
            "align_content": null,
            "align_items": null,
            "align_self": null,
            "border": null,
            "bottom": null,
            "display": null,
            "flex": null,
            "flex_flow": null,
            "grid_area": null,
            "grid_auto_columns": null,
            "grid_auto_flow": null,
            "grid_auto_rows": null,
            "grid_column": null,
            "grid_gap": null,
            "grid_row": null,
            "grid_template_areas": null,
            "grid_template_columns": null,
            "grid_template_rows": null,
            "height": null,
            "justify_content": null,
            "justify_items": null,
            "left": null,
            "margin": null,
            "max_height": null,
            "max_width": null,
            "min_height": null,
            "min_width": null,
            "object_fit": null,
            "object_position": null,
            "order": null,
            "overflow": null,
            "overflow_x": null,
            "overflow_y": null,
            "padding": null,
            "right": null,
            "top": null,
            "visibility": null,
            "width": null
          }
        },
        "12f89d305dbf445eae5ff8c2bc72c25f": {
          "model_module": "@jupyter-widgets/base",
          "model_name": "LayoutModel",
          "model_module_version": "1.2.0",
          "state": {
            "_model_module": "@jupyter-widgets/base",
            "_model_module_version": "1.2.0",
            "_model_name": "LayoutModel",
            "_view_count": null,
            "_view_module": "@jupyter-widgets/base",
            "_view_module_version": "1.2.0",
            "_view_name": "LayoutView",
            "align_content": null,
            "align_items": null,
            "align_self": null,
            "border": null,
            "bottom": null,
            "display": null,
            "flex": null,
            "flex_flow": null,
            "grid_area": null,
            "grid_auto_columns": null,
            "grid_auto_flow": null,
            "grid_auto_rows": null,
            "grid_column": null,
            "grid_gap": null,
            "grid_row": null,
            "grid_template_areas": null,
            "grid_template_columns": null,
            "grid_template_rows": null,
            "height": null,
            "justify_content": null,
            "justify_items": null,
            "left": null,
            "margin": null,
            "max_height": null,
            "max_width": null,
            "min_height": null,
            "min_width": null,
            "object_fit": null,
            "object_position": null,
            "order": null,
            "overflow": null,
            "overflow_x": null,
            "overflow_y": null,
            "padding": null,
            "right": null,
            "top": null,
            "visibility": null,
            "width": null
          }
        },
        "32ee9831b8f14516b9a18fd44bc221e0": {
          "model_module": "@jupyter-widgets/controls",
          "model_name": "DescriptionStyleModel",
          "model_module_version": "1.5.0",
          "state": {
            "_model_module": "@jupyter-widgets/controls",
            "_model_module_version": "1.5.0",
            "_model_name": "DescriptionStyleModel",
            "_view_count": null,
            "_view_module": "@jupyter-widgets/base",
            "_view_module_version": "1.2.0",
            "_view_name": "StyleView",
            "description_width": ""
          }
        },
        "a5d8a724b5434be097d5fbccc2f704b9": {
          "model_module": "@jupyter-widgets/base",
          "model_name": "LayoutModel",
          "model_module_version": "1.2.0",
          "state": {
            "_model_module": "@jupyter-widgets/base",
            "_model_module_version": "1.2.0",
            "_model_name": "LayoutModel",
            "_view_count": null,
            "_view_module": "@jupyter-widgets/base",
            "_view_module_version": "1.2.0",
            "_view_name": "LayoutView",
            "align_content": null,
            "align_items": null,
            "align_self": null,
            "border": null,
            "bottom": null,
            "display": null,
            "flex": null,
            "flex_flow": null,
            "grid_area": null,
            "grid_auto_columns": null,
            "grid_auto_flow": null,
            "grid_auto_rows": null,
            "grid_column": null,
            "grid_gap": null,
            "grid_row": null,
            "grid_template_areas": null,
            "grid_template_columns": null,
            "grid_template_rows": null,
            "height": null,
            "justify_content": null,
            "justify_items": null,
            "left": null,
            "margin": null,
            "max_height": null,
            "max_width": null,
            "min_height": null,
            "min_width": null,
            "object_fit": null,
            "object_position": null,
            "order": null,
            "overflow": null,
            "overflow_x": null,
            "overflow_y": null,
            "padding": null,
            "right": null,
            "top": null,
            "visibility": null,
            "width": null
          }
        },
        "9a4936de3aab4005b99c3ee342d3f777": {
          "model_module": "@jupyter-widgets/controls",
          "model_name": "ProgressStyleModel",
          "model_module_version": "1.5.0",
          "state": {
            "_model_module": "@jupyter-widgets/controls",
            "_model_module_version": "1.5.0",
            "_model_name": "ProgressStyleModel",
            "_view_count": null,
            "_view_module": "@jupyter-widgets/base",
            "_view_module_version": "1.2.0",
            "_view_name": "StyleView",
            "bar_color": null,
            "description_width": ""
          }
        },
        "36982aa6181542f08cdd987488b6504e": {
          "model_module": "@jupyter-widgets/base",
          "model_name": "LayoutModel",
          "model_module_version": "1.2.0",
          "state": {
            "_model_module": "@jupyter-widgets/base",
            "_model_module_version": "1.2.0",
            "_model_name": "LayoutModel",
            "_view_count": null,
            "_view_module": "@jupyter-widgets/base",
            "_view_module_version": "1.2.0",
            "_view_name": "LayoutView",
            "align_content": null,
            "align_items": null,
            "align_self": null,
            "border": null,
            "bottom": null,
            "display": null,
            "flex": null,
            "flex_flow": null,
            "grid_area": null,
            "grid_auto_columns": null,
            "grid_auto_flow": null,
            "grid_auto_rows": null,
            "grid_column": null,
            "grid_gap": null,
            "grid_row": null,
            "grid_template_areas": null,
            "grid_template_columns": null,
            "grid_template_rows": null,
            "height": null,
            "justify_content": null,
            "justify_items": null,
            "left": null,
            "margin": null,
            "max_height": null,
            "max_width": null,
            "min_height": null,
            "min_width": null,
            "object_fit": null,
            "object_position": null,
            "order": null,
            "overflow": null,
            "overflow_x": null,
            "overflow_y": null,
            "padding": null,
            "right": null,
            "top": null,
            "visibility": null,
            "width": null
          }
        },
        "04573e14af844520a2910ee86c212a21": {
          "model_module": "@jupyter-widgets/controls",
          "model_name": "DescriptionStyleModel",
          "model_module_version": "1.5.0",
          "state": {
            "_model_module": "@jupyter-widgets/controls",
            "_model_module_version": "1.5.0",
            "_model_name": "DescriptionStyleModel",
            "_view_count": null,
            "_view_module": "@jupyter-widgets/base",
            "_view_module_version": "1.2.0",
            "_view_name": "StyleView",
            "description_width": ""
          }
        },
        "916c93afcab64475be5d551593bc8d53": {
          "model_module": "@jupyter-widgets/controls",
          "model_name": "HBoxModel",
          "model_module_version": "1.5.0",
          "state": {
            "_dom_classes": [],
            "_model_module": "@jupyter-widgets/controls",
            "_model_module_version": "1.5.0",
            "_model_name": "HBoxModel",
            "_view_count": null,
            "_view_module": "@jupyter-widgets/controls",
            "_view_module_version": "1.5.0",
            "_view_name": "HBoxView",
            "box_style": "",
            "children": [
              "IPY_MODEL_8b171c266f2f4627b0ceeb8875f76b39",
              "IPY_MODEL_4929c2347aa342b38581ae10212acd48",
              "IPY_MODEL_5b089aad3d484d1784bebec14605d98f"
            ],
            "layout": "IPY_MODEL_4d855ec66a174faebe298b45234287ba"
          }
        },
        "8b171c266f2f4627b0ceeb8875f76b39": {
          "model_module": "@jupyter-widgets/controls",
          "model_name": "HTMLModel",
          "model_module_version": "1.5.0",
          "state": {
            "_dom_classes": [],
            "_model_module": "@jupyter-widgets/controls",
            "_model_module_version": "1.5.0",
            "_model_name": "HTMLModel",
            "_view_count": null,
            "_view_module": "@jupyter-widgets/controls",
            "_view_module_version": "1.5.0",
            "_view_name": "HTMLView",
            "description": "",
            "description_tooltip": null,
            "layout": "IPY_MODEL_2c38ba35ed1b4e139ddf3543c45b3712",
            "placeholder": "​",
            "style": "IPY_MODEL_8547be846df64a55b9c98b92ec2c28aa",
            "value": "sentencepiece.bpe.model: 100%"
          }
        },
        "4929c2347aa342b38581ae10212acd48": {
          "model_module": "@jupyter-widgets/controls",
          "model_name": "FloatProgressModel",
          "model_module_version": "1.5.0",
          "state": {
            "_dom_classes": [],
            "_model_module": "@jupyter-widgets/controls",
            "_model_module_version": "1.5.0",
            "_model_name": "FloatProgressModel",
            "_view_count": null,
            "_view_module": "@jupyter-widgets/controls",
            "_view_module_version": "1.5.0",
            "_view_name": "ProgressView",
            "bar_style": "success",
            "description": "",
            "description_tooltip": null,
            "layout": "IPY_MODEL_462a393c11344bbc90f8ce3571087cf7",
            "max": 5069051,
            "min": 0,
            "orientation": "horizontal",
            "style": "IPY_MODEL_407b3d058485453fac77938da4b657c8",
            "value": 5069051
          }
        },
        "5b089aad3d484d1784bebec14605d98f": {
          "model_module": "@jupyter-widgets/controls",
          "model_name": "HTMLModel",
          "model_module_version": "1.5.0",
          "state": {
            "_dom_classes": [],
            "_model_module": "@jupyter-widgets/controls",
            "_model_module_version": "1.5.0",
            "_model_name": "HTMLModel",
            "_view_count": null,
            "_view_module": "@jupyter-widgets/controls",
            "_view_module_version": "1.5.0",
            "_view_name": "HTMLView",
            "description": "",
            "description_tooltip": null,
            "layout": "IPY_MODEL_2e2dec938f90474cb333121197d104cc",
            "placeholder": "​",
            "style": "IPY_MODEL_c1444c0bcb4641d08510ee1ff0a38a60",
            "value": " 5.07M/5.07M [00:00&lt;00:00, 8.83MB/s]"
          }
        },
        "4d855ec66a174faebe298b45234287ba": {
          "model_module": "@jupyter-widgets/base",
          "model_name": "LayoutModel",
          "model_module_version": "1.2.0",
          "state": {
            "_model_module": "@jupyter-widgets/base",
            "_model_module_version": "1.2.0",
            "_model_name": "LayoutModel",
            "_view_count": null,
            "_view_module": "@jupyter-widgets/base",
            "_view_module_version": "1.2.0",
            "_view_name": "LayoutView",
            "align_content": null,
            "align_items": null,
            "align_self": null,
            "border": null,
            "bottom": null,
            "display": null,
            "flex": null,
            "flex_flow": null,
            "grid_area": null,
            "grid_auto_columns": null,
            "grid_auto_flow": null,
            "grid_auto_rows": null,
            "grid_column": null,
            "grid_gap": null,
            "grid_row": null,
            "grid_template_areas": null,
            "grid_template_columns": null,
            "grid_template_rows": null,
            "height": null,
            "justify_content": null,
            "justify_items": null,
            "left": null,
            "margin": null,
            "max_height": null,
            "max_width": null,
            "min_height": null,
            "min_width": null,
            "object_fit": null,
            "object_position": null,
            "order": null,
            "overflow": null,
            "overflow_x": null,
            "overflow_y": null,
            "padding": null,
            "right": null,
            "top": null,
            "visibility": null,
            "width": null
          }
        },
        "2c38ba35ed1b4e139ddf3543c45b3712": {
          "model_module": "@jupyter-widgets/base",
          "model_name": "LayoutModel",
          "model_module_version": "1.2.0",
          "state": {
            "_model_module": "@jupyter-widgets/base",
            "_model_module_version": "1.2.0",
            "_model_name": "LayoutModel",
            "_view_count": null,
            "_view_module": "@jupyter-widgets/base",
            "_view_module_version": "1.2.0",
            "_view_name": "LayoutView",
            "align_content": null,
            "align_items": null,
            "align_self": null,
            "border": null,
            "bottom": null,
            "display": null,
            "flex": null,
            "flex_flow": null,
            "grid_area": null,
            "grid_auto_columns": null,
            "grid_auto_flow": null,
            "grid_auto_rows": null,
            "grid_column": null,
            "grid_gap": null,
            "grid_row": null,
            "grid_template_areas": null,
            "grid_template_columns": null,
            "grid_template_rows": null,
            "height": null,
            "justify_content": null,
            "justify_items": null,
            "left": null,
            "margin": null,
            "max_height": null,
            "max_width": null,
            "min_height": null,
            "min_width": null,
            "object_fit": null,
            "object_position": null,
            "order": null,
            "overflow": null,
            "overflow_x": null,
            "overflow_y": null,
            "padding": null,
            "right": null,
            "top": null,
            "visibility": null,
            "width": null
          }
        },
        "8547be846df64a55b9c98b92ec2c28aa": {
          "model_module": "@jupyter-widgets/controls",
          "model_name": "DescriptionStyleModel",
          "model_module_version": "1.5.0",
          "state": {
            "_model_module": "@jupyter-widgets/controls",
            "_model_module_version": "1.5.0",
            "_model_name": "DescriptionStyleModel",
            "_view_count": null,
            "_view_module": "@jupyter-widgets/base",
            "_view_module_version": "1.2.0",
            "_view_name": "StyleView",
            "description_width": ""
          }
        },
        "462a393c11344bbc90f8ce3571087cf7": {
          "model_module": "@jupyter-widgets/base",
          "model_name": "LayoutModel",
          "model_module_version": "1.2.0",
          "state": {
            "_model_module": "@jupyter-widgets/base",
            "_model_module_version": "1.2.0",
            "_model_name": "LayoutModel",
            "_view_count": null,
            "_view_module": "@jupyter-widgets/base",
            "_view_module_version": "1.2.0",
            "_view_name": "LayoutView",
            "align_content": null,
            "align_items": null,
            "align_self": null,
            "border": null,
            "bottom": null,
            "display": null,
            "flex": null,
            "flex_flow": null,
            "grid_area": null,
            "grid_auto_columns": null,
            "grid_auto_flow": null,
            "grid_auto_rows": null,
            "grid_column": null,
            "grid_gap": null,
            "grid_row": null,
            "grid_template_areas": null,
            "grid_template_columns": null,
            "grid_template_rows": null,
            "height": null,
            "justify_content": null,
            "justify_items": null,
            "left": null,
            "margin": null,
            "max_height": null,
            "max_width": null,
            "min_height": null,
            "min_width": null,
            "object_fit": null,
            "object_position": null,
            "order": null,
            "overflow": null,
            "overflow_x": null,
            "overflow_y": null,
            "padding": null,
            "right": null,
            "top": null,
            "visibility": null,
            "width": null
          }
        },
        "407b3d058485453fac77938da4b657c8": {
          "model_module": "@jupyter-widgets/controls",
          "model_name": "ProgressStyleModel",
          "model_module_version": "1.5.0",
          "state": {
            "_model_module": "@jupyter-widgets/controls",
            "_model_module_version": "1.5.0",
            "_model_name": "ProgressStyleModel",
            "_view_count": null,
            "_view_module": "@jupyter-widgets/base",
            "_view_module_version": "1.2.0",
            "_view_name": "StyleView",
            "bar_color": null,
            "description_width": ""
          }
        },
        "2e2dec938f90474cb333121197d104cc": {
          "model_module": "@jupyter-widgets/base",
          "model_name": "LayoutModel",
          "model_module_version": "1.2.0",
          "state": {
            "_model_module": "@jupyter-widgets/base",
            "_model_module_version": "1.2.0",
            "_model_name": "LayoutModel",
            "_view_count": null,
            "_view_module": "@jupyter-widgets/base",
            "_view_module_version": "1.2.0",
            "_view_name": "LayoutView",
            "align_content": null,
            "align_items": null,
            "align_self": null,
            "border": null,
            "bottom": null,
            "display": null,
            "flex": null,
            "flex_flow": null,
            "grid_area": null,
            "grid_auto_columns": null,
            "grid_auto_flow": null,
            "grid_auto_rows": null,
            "grid_column": null,
            "grid_gap": null,
            "grid_row": null,
            "grid_template_areas": null,
            "grid_template_columns": null,
            "grid_template_rows": null,
            "height": null,
            "justify_content": null,
            "justify_items": null,
            "left": null,
            "margin": null,
            "max_height": null,
            "max_width": null,
            "min_height": null,
            "min_width": null,
            "object_fit": null,
            "object_position": null,
            "order": null,
            "overflow": null,
            "overflow_x": null,
            "overflow_y": null,
            "padding": null,
            "right": null,
            "top": null,
            "visibility": null,
            "width": null
          }
        },
        "c1444c0bcb4641d08510ee1ff0a38a60": {
          "model_module": "@jupyter-widgets/controls",
          "model_name": "DescriptionStyleModel",
          "model_module_version": "1.5.0",
          "state": {
            "_model_module": "@jupyter-widgets/controls",
            "_model_module_version": "1.5.0",
            "_model_name": "DescriptionStyleModel",
            "_view_count": null,
            "_view_module": "@jupyter-widgets/base",
            "_view_module_version": "1.2.0",
            "_view_name": "StyleView",
            "description_width": ""
          }
        },
        "d3e5b4437dec425bae570a9945bdb72b": {
          "model_module": "@jupyter-widgets/controls",
          "model_name": "HBoxModel",
          "model_module_version": "1.5.0",
          "state": {
            "_dom_classes": [],
            "_model_module": "@jupyter-widgets/controls",
            "_model_module_version": "1.5.0",
            "_model_name": "HBoxModel",
            "_view_count": null,
            "_view_module": "@jupyter-widgets/controls",
            "_view_module_version": "1.5.0",
            "_view_name": "HBoxView",
            "box_style": "",
            "children": [
              "IPY_MODEL_9433a5152cb04c0dbd5195e1cab028e4",
              "IPY_MODEL_82c2cf47b13c499a863336f9728d141b",
              "IPY_MODEL_bb46baa15cbc40b1a939c2d7c4e39b00"
            ],
            "layout": "IPY_MODEL_e912c82c76f7465b9ab83dc8b9388fe1"
          }
        },
        "9433a5152cb04c0dbd5195e1cab028e4": {
          "model_module": "@jupyter-widgets/controls",
          "model_name": "HTMLModel",
          "model_module_version": "1.5.0",
          "state": {
            "_dom_classes": [],
            "_model_module": "@jupyter-widgets/controls",
            "_model_module_version": "1.5.0",
            "_model_name": "HTMLModel",
            "_view_count": null,
            "_view_module": "@jupyter-widgets/controls",
            "_view_module_version": "1.5.0",
            "_view_name": "HTMLView",
            "description": "",
            "description_tooltip": null,
            "layout": "IPY_MODEL_9fcdafd804b54ff4817159c9a37945ff",
            "placeholder": "​",
            "style": "IPY_MODEL_924f0d97a02149ca99873fd62fbbd7fe",
            "value": "special_tokens_map.json: 100%"
          }
        },
        "82c2cf47b13c499a863336f9728d141b": {
          "model_module": "@jupyter-widgets/controls",
          "model_name": "FloatProgressModel",
          "model_module_version": "1.5.0",
          "state": {
            "_dom_classes": [],
            "_model_module": "@jupyter-widgets/controls",
            "_model_module_version": "1.5.0",
            "_model_name": "FloatProgressModel",
            "_view_count": null,
            "_view_module": "@jupyter-widgets/controls",
            "_view_module_version": "1.5.0",
            "_view_name": "ProgressView",
            "bar_style": "success",
            "description": "",
            "description_tooltip": null,
            "layout": "IPY_MODEL_77731339fc2c412bbaf0fdfdfc22f8c5",
            "max": 150,
            "min": 0,
            "orientation": "horizontal",
            "style": "IPY_MODEL_0d43046e7a2c42c48fec27a218681462",
            "value": 150
          }
        },
        "bb46baa15cbc40b1a939c2d7c4e39b00": {
          "model_module": "@jupyter-widgets/controls",
          "model_name": "HTMLModel",
          "model_module_version": "1.5.0",
          "state": {
            "_dom_classes": [],
            "_model_module": "@jupyter-widgets/controls",
            "_model_module_version": "1.5.0",
            "_model_name": "HTMLModel",
            "_view_count": null,
            "_view_module": "@jupyter-widgets/controls",
            "_view_module_version": "1.5.0",
            "_view_name": "HTMLView",
            "description": "",
            "description_tooltip": null,
            "layout": "IPY_MODEL_0a2bea0dc5594fdaace5d792367afcf8",
            "placeholder": "​",
            "style": "IPY_MODEL_f0afebe47e7644d1af3707372a50f76f",
            "value": " 150/150 [00:00&lt;00:00, 6.47kB/s]"
          }
        },
        "e912c82c76f7465b9ab83dc8b9388fe1": {
          "model_module": "@jupyter-widgets/base",
          "model_name": "LayoutModel",
          "model_module_version": "1.2.0",
          "state": {
            "_model_module": "@jupyter-widgets/base",
            "_model_module_version": "1.2.0",
            "_model_name": "LayoutModel",
            "_view_count": null,
            "_view_module": "@jupyter-widgets/base",
            "_view_module_version": "1.2.0",
            "_view_name": "LayoutView",
            "align_content": null,
            "align_items": null,
            "align_self": null,
            "border": null,
            "bottom": null,
            "display": null,
            "flex": null,
            "flex_flow": null,
            "grid_area": null,
            "grid_auto_columns": null,
            "grid_auto_flow": null,
            "grid_auto_rows": null,
            "grid_column": null,
            "grid_gap": null,
            "grid_row": null,
            "grid_template_areas": null,
            "grid_template_columns": null,
            "grid_template_rows": null,
            "height": null,
            "justify_content": null,
            "justify_items": null,
            "left": null,
            "margin": null,
            "max_height": null,
            "max_width": null,
            "min_height": null,
            "min_width": null,
            "object_fit": null,
            "object_position": null,
            "order": null,
            "overflow": null,
            "overflow_x": null,
            "overflow_y": null,
            "padding": null,
            "right": null,
            "top": null,
            "visibility": null,
            "width": null
          }
        },
        "9fcdafd804b54ff4817159c9a37945ff": {
          "model_module": "@jupyter-widgets/base",
          "model_name": "LayoutModel",
          "model_module_version": "1.2.0",
          "state": {
            "_model_module": "@jupyter-widgets/base",
            "_model_module_version": "1.2.0",
            "_model_name": "LayoutModel",
            "_view_count": null,
            "_view_module": "@jupyter-widgets/base",
            "_view_module_version": "1.2.0",
            "_view_name": "LayoutView",
            "align_content": null,
            "align_items": null,
            "align_self": null,
            "border": null,
            "bottom": null,
            "display": null,
            "flex": null,
            "flex_flow": null,
            "grid_area": null,
            "grid_auto_columns": null,
            "grid_auto_flow": null,
            "grid_auto_rows": null,
            "grid_column": null,
            "grid_gap": null,
            "grid_row": null,
            "grid_template_areas": null,
            "grid_template_columns": null,
            "grid_template_rows": null,
            "height": null,
            "justify_content": null,
            "justify_items": null,
            "left": null,
            "margin": null,
            "max_height": null,
            "max_width": null,
            "min_height": null,
            "min_width": null,
            "object_fit": null,
            "object_position": null,
            "order": null,
            "overflow": null,
            "overflow_x": null,
            "overflow_y": null,
            "padding": null,
            "right": null,
            "top": null,
            "visibility": null,
            "width": null
          }
        },
        "924f0d97a02149ca99873fd62fbbd7fe": {
          "model_module": "@jupyter-widgets/controls",
          "model_name": "DescriptionStyleModel",
          "model_module_version": "1.5.0",
          "state": {
            "_model_module": "@jupyter-widgets/controls",
            "_model_module_version": "1.5.0",
            "_model_name": "DescriptionStyleModel",
            "_view_count": null,
            "_view_module": "@jupyter-widgets/base",
            "_view_module_version": "1.2.0",
            "_view_name": "StyleView",
            "description_width": ""
          }
        },
        "77731339fc2c412bbaf0fdfdfc22f8c5": {
          "model_module": "@jupyter-widgets/base",
          "model_name": "LayoutModel",
          "model_module_version": "1.2.0",
          "state": {
            "_model_module": "@jupyter-widgets/base",
            "_model_module_version": "1.2.0",
            "_model_name": "LayoutModel",
            "_view_count": null,
            "_view_module": "@jupyter-widgets/base",
            "_view_module_version": "1.2.0",
            "_view_name": "LayoutView",
            "align_content": null,
            "align_items": null,
            "align_self": null,
            "border": null,
            "bottom": null,
            "display": null,
            "flex": null,
            "flex_flow": null,
            "grid_area": null,
            "grid_auto_columns": null,
            "grid_auto_flow": null,
            "grid_auto_rows": null,
            "grid_column": null,
            "grid_gap": null,
            "grid_row": null,
            "grid_template_areas": null,
            "grid_template_columns": null,
            "grid_template_rows": null,
            "height": null,
            "justify_content": null,
            "justify_items": null,
            "left": null,
            "margin": null,
            "max_height": null,
            "max_width": null,
            "min_height": null,
            "min_width": null,
            "object_fit": null,
            "object_position": null,
            "order": null,
            "overflow": null,
            "overflow_x": null,
            "overflow_y": null,
            "padding": null,
            "right": null,
            "top": null,
            "visibility": null,
            "width": null
          }
        },
        "0d43046e7a2c42c48fec27a218681462": {
          "model_module": "@jupyter-widgets/controls",
          "model_name": "ProgressStyleModel",
          "model_module_version": "1.5.0",
          "state": {
            "_model_module": "@jupyter-widgets/controls",
            "_model_module_version": "1.5.0",
            "_model_name": "ProgressStyleModel",
            "_view_count": null,
            "_view_module": "@jupyter-widgets/base",
            "_view_module_version": "1.2.0",
            "_view_name": "StyleView",
            "bar_color": null,
            "description_width": ""
          }
        },
        "0a2bea0dc5594fdaace5d792367afcf8": {
          "model_module": "@jupyter-widgets/base",
          "model_name": "LayoutModel",
          "model_module_version": "1.2.0",
          "state": {
            "_model_module": "@jupyter-widgets/base",
            "_model_module_version": "1.2.0",
            "_model_name": "LayoutModel",
            "_view_count": null,
            "_view_module": "@jupyter-widgets/base",
            "_view_module_version": "1.2.0",
            "_view_name": "LayoutView",
            "align_content": null,
            "align_items": null,
            "align_self": null,
            "border": null,
            "bottom": null,
            "display": null,
            "flex": null,
            "flex_flow": null,
            "grid_area": null,
            "grid_auto_columns": null,
            "grid_auto_flow": null,
            "grid_auto_rows": null,
            "grid_column": null,
            "grid_gap": null,
            "grid_row": null,
            "grid_template_areas": null,
            "grid_template_columns": null,
            "grid_template_rows": null,
            "height": null,
            "justify_content": null,
            "justify_items": null,
            "left": null,
            "margin": null,
            "max_height": null,
            "max_width": null,
            "min_height": null,
            "min_width": null,
            "object_fit": null,
            "object_position": null,
            "order": null,
            "overflow": null,
            "overflow_x": null,
            "overflow_y": null,
            "padding": null,
            "right": null,
            "top": null,
            "visibility": null,
            "width": null
          }
        },
        "f0afebe47e7644d1af3707372a50f76f": {
          "model_module": "@jupyter-widgets/controls",
          "model_name": "DescriptionStyleModel",
          "model_module_version": "1.5.0",
          "state": {
            "_model_module": "@jupyter-widgets/controls",
            "_model_module_version": "1.5.0",
            "_model_name": "DescriptionStyleModel",
            "_view_count": null,
            "_view_module": "@jupyter-widgets/base",
            "_view_module_version": "1.2.0",
            "_view_name": "StyleView",
            "description_width": ""
          }
        }
      }
    }
  },
  "cells": [
    {
      "cell_type": "markdown",
      "source": [
        "Question Answering with zero-shot cross-lingual transfer\n",
        "\n",
        "deepset/xlm-roberta-large-squad2 is a model where the pretrained multilingual xlm-roberta-large language model is fine-tuned for extractive QA using English SQuAD v2 dataset. In extractive question answering, an input for the model contains a question and a context document, and a model returns a text span answering the question extracted from the context document, or an empty span in case the context does not provide an answer for the question.\n",
        "\n",
        "The task is to test whether this model transfers to other languages than English. Construct a small set of question – context pairs, and evaluate the predictions manually. Compare to similar English examples. Does the model work on your selected language?\n",
        "\n"
      ],
      "metadata": {
        "id": "XYTBp9TzpRt9"
      }
    },
    {
      "cell_type": "markdown",
      "source": [
        "## SETUP"
      ],
      "metadata": {
        "id": "E2reqUVVpfHq"
      }
    },
    {
      "cell_type": "code",
      "source": [
        "!pip3 install --quiet wikipedia-api"
      ],
      "metadata": {
        "colab": {
          "base_uri": "https://localhost:8080/"
        },
        "id": "GCjNWU6oqL6k",
        "outputId": "b01a7e08-31b1-4294-9e78-d820cab074f6"
      },
      "execution_count": 3,
      "outputs": [
        {
          "output_type": "stream",
          "name": "stdout",
          "text": [
            "  Preparing metadata (setup.py) ... \u001b[?25l\u001b[?25hdone\n",
            "  Building wheel for wikipedia-api (setup.py) ... \u001b[?25l\u001b[?25hdone\n"
          ]
        }
      ]
    },
    {
      "cell_type": "code",
      "execution_count": 5,
      "metadata": {
        "id": "qI7eAWJXpJ8i"
      },
      "outputs": [],
      "source": [
        "from transformers import AutoModelForQuestionAnswering, AutoTokenizer, pipeline\n",
        "import wikipediaapi"
      ]
    },
    {
      "cell_type": "code",
      "source": [
        "nl=\"\\n\""
      ],
      "metadata": {
        "id": "JX_noFfNxGXU"
      },
      "execution_count": 34,
      "outputs": []
    },
    {
      "cell_type": "markdown",
      "source": [
        "## MODEL"
      ],
      "metadata": {
        "id": "7_77Z7UAph1j"
      }
    },
    {
      "cell_type": "code",
      "source": [
        "model=\"deepset/xlm-roberta-large-squad2\"\n",
        "pipe=pipeline(\"question-answering\",\n",
        "              model=model,\n",
        "              tokenizer=model)"
      ],
      "metadata": {
        "colab": {
          "base_uri": "https://localhost:8080/",
          "height": 388,
          "referenced_widgets": [
            "d0aa3dde55344c5fb8a384eac9199555",
            "4ffc6e0d59994f7db78076eb7ec5f6f3",
            "a8318b0856ec4c2b9f603faba1e6f972",
            "74b091590d934d91ad72e498a39220de",
            "ca65a424e68f415e94b3786dc7dd7872",
            "434ac0e54b1b4d57aa9237d697db8483",
            "f0fc817b36b94910b59bd1a308145837",
            "f4bb77516df34e91bdd8468c2f1ede0a",
            "d09866868cff4fc9bd4914c3b914ef52",
            "2112894dd58048279f0bae8db712ec26",
            "d9dbcca3863242ebb8aaafaeb8db116a",
            "88a55d7e9f9f45eabb5fa66f7faaec6e",
            "e7eaa27bd04e413e8286745e1d155f9f",
            "9dfafbba1aae48a0a20c463f8db9763b",
            "5103a8e14c7542b3aa8e1e20f725cfa0",
            "d3c05998f67a4139a91f799aee7673fa",
            "96afda8bb9ab429fbf736e9c0c030451",
            "14700eb5fed447fb8d523a2479eb077c",
            "afefa73397ac4a719613612f0f12c249",
            "ba90576ab93e48b38230f6c41432a663",
            "cdc32b47017744ee896503f534e9efdb",
            "12bf31fa902d48059c0e939b9293e01b",
            "6828c71aa8024c2ebd1827f53f574d14",
            "5a155ed3f6c6424492912fc3b8f9d519",
            "995d3b9958604b0ba8e4355c8188ccd5",
            "40fee22ceb984e63a2813e6d89d31b18",
            "74524b42db5f4bc7815b5f9123ad8150",
            "12f89d305dbf445eae5ff8c2bc72c25f",
            "32ee9831b8f14516b9a18fd44bc221e0",
            "a5d8a724b5434be097d5fbccc2f704b9",
            "9a4936de3aab4005b99c3ee342d3f777",
            "36982aa6181542f08cdd987488b6504e",
            "04573e14af844520a2910ee86c212a21",
            "916c93afcab64475be5d551593bc8d53",
            "8b171c266f2f4627b0ceeb8875f76b39",
            "4929c2347aa342b38581ae10212acd48",
            "5b089aad3d484d1784bebec14605d98f",
            "4d855ec66a174faebe298b45234287ba",
            "2c38ba35ed1b4e139ddf3543c45b3712",
            "8547be846df64a55b9c98b92ec2c28aa",
            "462a393c11344bbc90f8ce3571087cf7",
            "407b3d058485453fac77938da4b657c8",
            "2e2dec938f90474cb333121197d104cc",
            "c1444c0bcb4641d08510ee1ff0a38a60",
            "d3e5b4437dec425bae570a9945bdb72b",
            "9433a5152cb04c0dbd5195e1cab028e4",
            "82c2cf47b13c499a863336f9728d141b",
            "bb46baa15cbc40b1a939c2d7c4e39b00",
            "e912c82c76f7465b9ab83dc8b9388fe1",
            "9fcdafd804b54ff4817159c9a37945ff",
            "924f0d97a02149ca99873fd62fbbd7fe",
            "77731339fc2c412bbaf0fdfdfc22f8c5",
            "0d43046e7a2c42c48fec27a218681462",
            "0a2bea0dc5594fdaace5d792367afcf8",
            "f0afebe47e7644d1af3707372a50f76f"
          ]
        },
        "id": "UINiFJ6MpQKn",
        "outputId": "47e83f9f-37e7-4d15-af45-b423e33e544b"
      },
      "execution_count": 2,
      "outputs": [
        {
          "output_type": "stream",
          "name": "stderr",
          "text": [
            "/usr/local/lib/python3.10/dist-packages/huggingface_hub/utils/_token.py:89: UserWarning: \n",
            "The secret `HF_TOKEN` does not exist in your Colab secrets.\n",
            "To authenticate with the Hugging Face Hub, create a token in your settings tab (https://huggingface.co/settings/tokens), set it as secret in your Google Colab and restart your session.\n",
            "You will be able to reuse this secret in all of your notebooks.\n",
            "Please note that authentication is recommended but still optional to access public models or datasets.\n",
            "  warnings.warn(\n"
          ]
        },
        {
          "output_type": "display_data",
          "data": {
            "text/plain": [
              "config.json:   0%|          | 0.00/606 [00:00<?, ?B/s]"
            ],
            "application/vnd.jupyter.widget-view+json": {
              "version_major": 2,
              "version_minor": 0,
              "model_id": "d0aa3dde55344c5fb8a384eac9199555"
            }
          },
          "metadata": {}
        },
        {
          "output_type": "display_data",
          "data": {
            "text/plain": [
              "model.safetensors:   0%|          | 0.00/2.24G [00:00<?, ?B/s]"
            ],
            "application/vnd.jupyter.widget-view+json": {
              "version_major": 2,
              "version_minor": 0,
              "model_id": "88a55d7e9f9f45eabb5fa66f7faaec6e"
            }
          },
          "metadata": {}
        },
        {
          "output_type": "stream",
          "name": "stderr",
          "text": [
            "Some weights of the model checkpoint at deepset/xlm-roberta-large-squad2 were not used when initializing XLMRobertaForQuestionAnswering: ['roberta.pooler.dense.bias', 'roberta.pooler.dense.weight']\n",
            "- This IS expected if you are initializing XLMRobertaForQuestionAnswering from the checkpoint of a model trained on another task or with another architecture (e.g. initializing a BertForSequenceClassification model from a BertForPreTraining model).\n",
            "- This IS NOT expected if you are initializing XLMRobertaForQuestionAnswering from the checkpoint of a model that you expect to be exactly identical (initializing a BertForSequenceClassification model from a BertForSequenceClassification model).\n"
          ]
        },
        {
          "output_type": "display_data",
          "data": {
            "text/plain": [
              "tokenizer_config.json:   0%|          | 0.00/179 [00:00<?, ?B/s]"
            ],
            "application/vnd.jupyter.widget-view+json": {
              "version_major": 2,
              "version_minor": 0,
              "model_id": "6828c71aa8024c2ebd1827f53f574d14"
            }
          },
          "metadata": {}
        },
        {
          "output_type": "display_data",
          "data": {
            "text/plain": [
              "sentencepiece.bpe.model:   0%|          | 0.00/5.07M [00:00<?, ?B/s]"
            ],
            "application/vnd.jupyter.widget-view+json": {
              "version_major": 2,
              "version_minor": 0,
              "model_id": "916c93afcab64475be5d551593bc8d53"
            }
          },
          "metadata": {}
        },
        {
          "output_type": "display_data",
          "data": {
            "text/plain": [
              "special_tokens_map.json:   0%|          | 0.00/150 [00:00<?, ?B/s]"
            ],
            "application/vnd.jupyter.widget-view+json": {
              "version_major": 2,
              "version_minor": 0,
              "model_id": "d3e5b4437dec425bae570a9945bdb72b"
            }
          },
          "metadata": {}
        },
        {
          "output_type": "stream",
          "name": "stderr",
          "text": [
            "/usr/local/lib/python3.10/dist-packages/transformers/tokenization_utils_base.py:1601: FutureWarning: `clean_up_tokenization_spaces` was not set. It will be set to `True` by default. This behavior will be depracted in transformers v4.45, and will be then set to `False` by default. For more details check this issue: https://github.com/huggingface/transformers/issues/31884\n",
            "  warnings.warn(\n"
          ]
        }
      ]
    },
    {
      "cell_type": "code",
      "source": [
        "context_db_fin_fin = {\n",
        "    \"Esiintyykö helium kiinteänä aineena?\":\"\"\"\n",
        "Helium on alkuaine, joka on väritön ja hajuton jalokaasu. Se on tunnetun maailmankaikkeuden toiseksi yleisin alkuaine vedyn jälkeen, ja sitä on maailman­kaikkeuden tunnetusta massasta noin neljäs­osa. Sen kemiallinen merkki on He (lat. Helium) ja järjestysluku 2.\n",
        "Heliumilla ei ole tunnettuja stabiileja yhdisteitä ja se esiintyy luonnossa aina yksiatomisena. Heliumilla on kaikista alkuaineista alhaisin kiehumispiste (−268,9 °C), joten se on normaaleissa olosuhteissa kaasu. Helium esiintyy kiinteässä olomuodossa vain erittäin korkeassa paineessa ja matalassa lämpötilassa. Heliumkaasua käytetään esimerkiksi hitsauksessa, jäähdytyksessä ja rakettitekniikassa. Heliumia käytetään myös nostekaasuna esimerkiksi säähavaintopalloissa, ilmalaivoissa ja ilmapalloissa, koska se on kevyempää kuin ilma. Nestemäistä heliumia käytetään erityisesti suprajohteiden jäähdyttämiseen.\n",
        "Heliumin löysivät 1868 tähtitieteilijät Pierre Janssen ja Joseph Lockyer sekä kemisti Edward Frankland tutkiessaan Auringon spektriä.\n",
        "\"\"\",\n",
        "    \"Kuinka suuri tähti vaaditaan vedyn polttamiseksi?\":\"\"\"\n",
        "Tähtien energiaa vapauttavissa nukleosynteeseissä syntyy suurin osa muista alkuaineista. Tähdet, joiden massa on yli 0,08 auringon massaa, pystyvät kehittämään vedyn polttamiseksi vaadittavan kymmenen miljoonan kelvinin lämpötilan. Polttaakseen heliumia tähti tarvitsee massaa jo 0,25 auringon verran, jolloin lämpötila voi kymmenkertaistua ja laukaista heliumfuusion. Mitä pidemmälle alkuaineiden jaksollisessa järjestelmässä mennään, sitä suurempi on oltava tähden massa, kunnes lopulta tulee rauta, alkuaine jolla on korkein sidosenergia hiukkasta kohden ja johon fuusioreaktio pysähtyy. Rautaan fuusioitumista varten tähden tulee olla massaltaan suurempi kuin 8 aurinkoa\n",
        "\"\"\",\n",
        "    \"Mikä luonnonilmiö vaikutti olosuhteisiin kilpailuissa?\":\"\"\"\n",
        "    Maastohiihdossa kilpailtiin vuoden 1928 talviolympialaisissa kahdella hiihtomatkalla. Ohjelmassa olivat miesten 18 ja 50 kilometrin matkat. Hiihtoladut kulkivat Sankt Moritzia ympäröivillä kukkuloilla. Kilpailujen 50 km hiihtomatka jäi historiaan säiden ansiosta.\n",
        "    Föhn-tuulen lämmittämillä rinteillä lämpötila nousi kilpailun aikana 0 °C:sta 25 °C:seen, mikä aiheutti vaikeuksia lumiolosuhteille.\n",
        "    Kaikki mitalisijat menivät Norjaan ja Ruotsiin. Norja saavutti kolmoisvoiton 18 km matkalla ja Ruotsi 50 km matkalla\n",
        "\"\"\"\n",
        "\n",
        "}"
      ],
      "metadata": {
        "id": "MPYGY_HOv3-y"
      },
      "execution_count": 42,
      "outputs": []
    },
    {
      "cell_type": "code",
      "source": [
        "context_db_fin_en = {\n",
        "    \"How many atoms helium has in nature?\":\"\"\"\n",
        "Helium on alkuaine, joka on väritön ja hajuton jalokaasu. Se on tunnetun maailmankaikkeuden toiseksi yleisin alkuaine vedyn jälkeen, ja sitä on maailman­kaikkeuden tunnetusta massasta noin neljäs­osa. Sen kemiallinen merkki on He (lat. Helium) ja järjestysluku 2.\n",
        "Heliumilla ei ole tunnettuja stabiileja yhdisteitä ja se esiintyy luonnossa aina yksiatomisena. Heliumilla on kaikista alkuaineista alhaisin kiehumispiste (−268,9 °C), joten se on normaaleissa olosuhteissa kaasu. Helium esiintyy kiinteässä olomuodossa vain erittäin korkeassa paineessa ja matalassa lämpötilassa. Heliumkaasua käytetään esimerkiksi hitsauksessa, jäähdytyksessä ja rakettitekniikassa. Heliumia käytetään myös nostekaasuna esimerkiksi säähavaintopalloissa, ilmalaivoissa ja ilmapalloissa, koska se on kevyempää kuin ilma. Nestemäistä heliumia käytetään erityisesti suprajohteiden jäähdyttämiseen.\n",
        "Heliumin löysivät 1868 tähtitieteilijät Pierre Janssen ja Joseph Lockyer sekä kemisti Edward Frankland tutkiessaan Auringon spektriä.\n",
        "\"\"\",\n",
        "    \"What is required for element creation?\":\"\"\"\n",
        "Tähtien energiaa vapauttavissa nukleosynteeseissä syntyy suurin osa muista alkuaineista. Tähdet, joiden massa on yli 0,08 auringon massaa, pystyvät kehittämään vedyn polttamiseksi vaadittavan kymmenen miljoonan kelvinin lämpötilan. Polttaakseen heliumia tähti tarvitsee massaa jo 0,25 auringon verran, jolloin lämpötila voi kymmenkertaistua ja laukaista heliumfuusion. Mitä pidemmälle alkuaineiden jaksollisessa järjestelmässä mennään, sitä suurempi on oltava tähden massa, kunnes lopulta tulee rauta, alkuaine jolla on korkein sidosenergia hiukkasta kohden ja johon fuusioreaktio pysähtyy. Rautaan fuusioitumista varten tähden tulee olla massaltaan suurempi kuin 8 aurinkoa\n",
        "\"\"\",\n",
        "    \"Who won medals in these games?\":\"\"\"\n",
        "    Maastohiihdossa kilpailtiin vuoden 1928 talviolympialaisissa kahdella hiihtomatkalla. Ohjelmassa olivat miesten 18 ja 50 kilometrin matkat. Hiihtoladut kulkivat Sankt Moritzia ympäröivillä kukkuloilla. Kilpailujen 50 km hiihtomatka jäi historiaan säiden ansiosta.\n",
        "    Föhn-tuulen lämmittämillä rinteillä lämpötila nousi kilpailun aikana 0 °C:sta 25 °C:seen, mikä aiheutti vaikeuksia lumiolosuhteille.\n",
        "    Kaikki mitalisijat menivät Norjaan ja Ruotsiin. Norja saavutti kolmoisvoiton 18 km matkalla ja Ruotsi 50 km matkalla\n",
        "\"\"\"\n",
        "\n",
        "}"
      ],
      "metadata": {
        "id": "j70Jdnj5xobb"
      },
      "execution_count": 45,
      "outputs": []
    },
    {
      "cell_type": "code",
      "source": [
        "context_db_en_en = {\n",
        "    \"Where is Augustus Island?\":\"\"\"\n",
        "    Augustus Island is one of the many uninhabited Canadian Arctic islands in the Qikiqtaaluk Region, Nunavut. It is a Baffin Island offshore island located in inner Frobisher Bay. The island lies at the head of Ward Inlet, between Becher Peninsula and Hall Peninsula. Bruce Island is located at the mouth of the inlet. Other islands in the immediate vicinity include Algerine Island, Frobisher's Farthest, McBride Island, and Pichit Island.\n",
        "    \"\"\",\n",
        "    \"What genre is this movie?\":\"\"\"\n",
        "    Kung Fu Brothers in the Wild West (original title in Cantonese: 龍虎征西), also known as Man from Golden City,[1] is a 1973 Italian-Hongkongese Kung fu Spaghetti Western film directed by Ban-Yee Yeo and written by Ni Kuang.[3] Starring William Berger, Donal O'Brien, Jason Pai Piao, and Winnie Pei Nei, the film revolves around a Chinese kung fu master who confronts a gang of ruffians in the American Wild West.\n",
        "    \"\"\",\n",
        "    \"What was his nickname?\":\"\"\"\n",
        "    Dominic Bruce, OBE, MC, AFM, KSG (7 June 1915 – 12 February 2000) was a British Royal Air Force officer, known as the \"Medium Sized Man.\" He has been described as \"the most ingenious escaper\" of the Second World War.[5] He made seventeen attempts at escaping from POW camps, including several attempts to escape from Colditz Castle, a castle that housed prisoners of war \"deemed incorrigible\". He was named by Jim Rogers (\"Tunnelling into Colditz\") as one of the ten 'Kings of Colditz', the men who \"dedicated their waking hours only to the idea of escaping\".\n",
        "    \"\"\"\n",
        "}"
      ],
      "metadata": {
        "id": "k9g6lsfbyXmd"
      },
      "execution_count": 46,
      "outputs": []
    },
    {
      "cell_type": "code",
      "source": [
        "context_db_en_fin = {\n",
        "    \"Missä sijaitsee Augustuksen saari?\":\"\"\"\n",
        "    Augustus Island is one of the many uninhabited Canadian Arctic islands in the Qikiqtaaluk Region, Nunavut. It is a Baffin Island offshore island located in inner Frobisher Bay. The island lies at the head of Ward Inlet, between Becher Peninsula and Hall Peninsula. Bruce Island is located at the mouth of the inlet. Other islands in the immediate vicinity include Algerine Island, Frobisher's Farthest, McBride Island, and Pichit Island.\n",
        "    \"\"\",\n",
        "    \"Kuka ohjasi elokuvan?\":\"\"\"\n",
        "    Kung Fu Brothers in the Wild West (original title in Cantonese: 龍虎征西), also known as Man from Golden City,[1] is a 1973 Italian-Hongkongese Kung fu Spaghetti Western film directed by Ban-Yee Yeo and written by Ni Kuang.[3] Starring William Berger, Donal O'Brien, Jason Pai Piao, and Winnie Pei Nei, the film revolves around a Chinese kung fu master who confronts a gang of ruffians in the American Wild West.\n",
        "    \"\"\",\n",
        "    \"Milloin syntyi Dominic?\":\"\"\"\n",
        "    Dominic Bruce, OBE, MC, AFM, KSG (7 June 1915 – 12 February 2000) was a British Royal Air Force officer, known as the \"Medium Sized Man.\" He has been described as \"the most ingenious escaper\" of the Second World War.[5] He made seventeen attempts at escaping from POW camps, including several attempts to escape from Colditz Castle, a castle that housed prisoners of war \"deemed incorrigible\". He was named by Jim Rogers (\"Tunnelling into Colditz\") as one of the ten 'Kings of Colditz', the men who \"dedicated their waking hours only to the idea of escaping\".\n",
        "    \"\"\"\n",
        "}"
      ],
      "metadata": {
        "id": "AkPF-zbWzPxg"
      },
      "execution_count": 48,
      "outputs": []
    },
    {
      "cell_type": "markdown",
      "source": [
        "### FIN CONTEXT, FIN QUESTION"
      ],
      "metadata": {
        "id": "EzqisUCetYGQ"
      }
    },
    {
      "cell_type": "code",
      "source": [
        "for q,c in context_db_fin_fin.items():\n",
        "  input={\n",
        "      \"question\":q,\n",
        "      \"context\":c\n",
        "  }\n",
        "  result=pipe(input)\n",
        "  print(f'The result:{nl}START @ {result[\"start\"]}{nl}END @ {result[\"end\"]}{nl}QUESTION: {q}{nl}ANSWER: {result[\"answer\"]}{nl}SCORE: {result[\"score\"]}{nl}{nl}')\n"
      ],
      "metadata": {
        "colab": {
          "base_uri": "https://localhost:8080/"
        },
        "id": "Orbk1D1MwbI_",
        "outputId": "7a5659fd-62be-483d-d0c8-820cf167fdc8"
      },
      "execution_count": 40,
      "outputs": [
        {
          "output_type": "stream",
          "name": "stdout",
          "text": [
            "The result:\n",
            "START @ 517\n",
            "END @ 578\n",
            "QUESTION: Esiintyykö helium kiinteänä aineena?\n",
            "ANSWER:  vain erittäin korkeassa paineessa ja matalassa lämpötilassa.\n",
            "SCORE: 0.05366549268364906\n",
            "\n",
            "\n",
            "The result:\n",
            "START @ 113\n",
            "END @ 131\n",
            "QUESTION: Kuinka suuri tähti vaaditaan vedyn polttamiseksi?\n",
            "ANSWER:  yli 0,08 auringon\n",
            "SCORE: 0.008834341540932655\n",
            "\n",
            "\n",
            "The result:\n",
            "START @ 272\n",
            "END @ 284\n",
            "QUESTION: Mikä luonnonilmiö vaikutti olosuhteisiin kilpailuissa?\n",
            "ANSWER:  Föhn-tuulen\n",
            "SCORE: 0.9450137615203857\n",
            "\n",
            "\n"
          ]
        }
      ]
    },
    {
      "cell_type": "markdown",
      "source": [
        "### FIN CONTEXT, ENG QUESTION"
      ],
      "metadata": {
        "id": "Yji4SyAxyBlO"
      }
    },
    {
      "cell_type": "code",
      "source": [
        "for q,c in context_db_fin_en.items():\n",
        "  input={\n",
        "      \"question\":q,\n",
        "      \"context\":c\n",
        "  }\n",
        "  result=pipe(input)\n",
        "  print(f'The result:{nl}START @ {result[\"start\"]}{nl}END @ {result[\"end\"]}{nl}QUESTION: {q}{nl}ANSWER: {result[\"answer\"]}{nl}SCORE: {result[\"score\"]}{nl}{nl}')\n"
      ],
      "metadata": {
        "colab": {
          "base_uri": "https://localhost:8080/"
        },
        "id": "94PDPpvwx7Nb",
        "outputId": "786ac068-57d1-448d-f487-fff223b25370"
      },
      "execution_count": 44,
      "outputs": [
        {
          "output_type": "stream",
          "name": "stdout",
          "text": [
            "The result:\n",
            "START @ 346\n",
            "END @ 361\n",
            "QUESTION: How many atoms helium has in nature?\n",
            "ANSWER:  yksiatomisena.\n",
            "SCORE: 0.46457239985466003\n",
            "\n",
            "\n",
            "The result:\n",
            "START @ 104\n",
            "END @ 139\n",
            "QUESTION: What is required for element creation?\n",
            "ANSWER:  massa on yli 0,08 auringon massaa,\n",
            "SCORE: 0.00012292816245462745\n",
            "\n",
            "\n",
            "The result:\n",
            "START @ 437\n",
            "END @ 458\n",
            "QUESTION: Who won medals in these games?\n",
            "ANSWER:  Norjaan ja Ruotsiin.\n",
            "SCORE: 0.48428404331207275\n",
            "\n",
            "\n"
          ]
        }
      ]
    },
    {
      "cell_type": "markdown",
      "source": [
        "### EN CONTEXT, EN QUESTION"
      ],
      "metadata": {
        "id": "8M4A76VrzCIr"
      }
    },
    {
      "cell_type": "code",
      "source": [
        "for q,c in context_db_en_en.items():\n",
        "  input={\n",
        "      \"question\":q,\n",
        "      \"context\":c\n",
        "  }\n",
        "  result=pipe(input)\n",
        "  print(f'The result:{nl}START @ {result[\"start\"]}{nl}END @ {result[\"end\"]}{nl}QUESTION: {q}{nl}ANSWER: {result[\"answer\"]}{nl}SCORE: {result[\"score\"]}{nl}{nl}')"
      ],
      "metadata": {
        "colab": {
          "base_uri": "https://localhost:8080/"
        },
        "id": "VHoyRfHhzBkn",
        "outputId": "85ad5bf4-9180-4bc1-8c58-de19f24c8445"
      },
      "execution_count": 47,
      "outputs": [
        {
          "output_type": "stream",
          "name": "stdout",
          "text": [
            "The result:\n",
            "START @ 82\n",
            "END @ 111\n",
            "QUESTION: Where is Augustus Island?\n",
            "ANSWER:  Qikiqtaaluk Region, Nunavut.\n",
            "SCORE: 0.15274080634117126\n",
            "\n",
            "\n",
            "The result:\n",
            "START @ 147\n",
            "END @ 173\n",
            "QUESTION: What genre is this movie?\n",
            "ANSWER:  Kung fu Spaghetti Western\n",
            "SCORE: 0.8649393916130066\n",
            "\n",
            "\n",
            "The result:\n",
            "START @ 122\n",
            "END @ 148\n",
            "QUESTION: What was his nickname?\n",
            "ANSWER:  \"Medium Sized Man.\"[3][4]\n",
            "SCORE: 0.4087062180042267\n",
            "\n",
            "\n"
          ]
        }
      ]
    },
    {
      "cell_type": "markdown",
      "source": [
        "### EN CONTEXT, FIN QUESTION"
      ],
      "metadata": {
        "id": "g4HJHNt6ziiO"
      }
    },
    {
      "cell_type": "code",
      "source": [
        "for q,c in context_db_en_fin.items():\n",
        "  input={\n",
        "      \"question\":q,\n",
        "      \"context\":c\n",
        "  }\n",
        "  result=pipe(input)\n",
        "  print(f'The result:{nl}START @ {result[\"start\"]}{nl}END @ {result[\"end\"]}{nl}QUESTION: {q}{nl}ANSWER: {result[\"answer\"]}{nl}SCORE: {result[\"score\"]}{nl}{nl}')"
      ],
      "metadata": {
        "colab": {
          "base_uri": "https://localhost:8080/"
        },
        "id": "u4GnqZzUzGHD",
        "outputId": "5e865ff8-c86b-4c9d-c881-b2cb1a28e026"
      },
      "execution_count": 50,
      "outputs": [
        {
          "output_type": "stream",
          "name": "stdout",
          "text": [
            "The result:\n",
            "START @ 102\n",
            "END @ 111\n",
            "QUESTION: Missä sijaitsee Augustuksen saari?\n",
            "ANSWER:  Nunavut.\n",
            "SCORE: 0.07143788784742355\n",
            "\n",
            "\n",
            "The result:\n",
            "START @ 187\n",
            "END @ 199\n",
            "QUESTION: Kuka ohjasi elokuvan?\n",
            "ANSWER:  Ban-Yee Yeo\n",
            "SCORE: 0.9941660165786743\n",
            "\n",
            "\n",
            "The result:\n",
            "START @ 37\n",
            "END @ 50\n",
            "QUESTION: Milloin syntyi Dominic?\n",
            "ANSWER:  (7 June 1915\n",
            "SCORE: 0.9713301062583923\n",
            "\n",
            "\n"
          ]
        }
      ]
    },
    {
      "cell_type": "markdown",
      "source": [
        "### Conclusion\n",
        "\n",
        "The model works just fine on each 4 different tasks and generates (somewhat) desired outcomes."
      ],
      "metadata": {
        "id": "D07wCiRuzuTC"
      }
    },
    {
      "cell_type": "code",
      "source": [],
      "metadata": {
        "id": "ejLYBFZaz6vX"
      },
      "execution_count": null,
      "outputs": []
    }
  ]
}